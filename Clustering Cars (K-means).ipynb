{
 "cells": [
  {
   "cell_type": "code",
   "execution_count": 241,
   "id": "ffe259b9",
   "metadata": {},
   "outputs": [],
   "source": [
    "#Importing the libraries\n",
    "import numpy as np\n",
    "import matplotlib.pyplot as plt\n",
    "import pandas as pd \n",
    "#Allows viewing charts in the notebook\n",
    "%matplotlib inline"
   ]
  },
  {
   "cell_type": "code",
   "execution_count": 242,
   "id": "0f5a3020",
   "metadata": {},
   "outputs": [
    {
     "name": "stdout",
     "output_type": "stream",
     "text": [
      "    mpg   cylinders  cubicinches   hp  weightlbs   time-to-60   year     brand\n",
      "0  14.0           8          350  165       4209           12   1972       US.\n",
      "1  31.9           4           89   71       1925           14   1980   Europe.\n",
      "2  17.0           8          302  140       3449           11   1971       US.\n",
      "3  15.0           8          400  150       3761           10   1971       US.\n",
      "4  30.5           4           98   63       2051           17   1978       US.\n"
     ]
    }
   ],
   "source": [
    "#Importing the dataset\n",
    "dataset = pd.read_csv(r\"C:\\Users\\ASUS\\Downloads\\cars.csv\").replace([np.inf, -np.inf], np.nan)\n",
    "print (dataset.head())"
   ]
  },
  {
   "cell_type": "code",
   "execution_count": 243,
   "id": "e22b18f9",
   "metadata": {
    "scrolled": true
   },
   "outputs": [
    {
     "data": {
      "text/html": [
       "<div>\n",
       "<style scoped>\n",
       "    .dataframe tbody tr th:only-of-type {\n",
       "        vertical-align: middle;\n",
       "    }\n",
       "\n",
       "    .dataframe tbody tr th {\n",
       "        vertical-align: top;\n",
       "    }\n",
       "\n",
       "    .dataframe thead th {\n",
       "        text-align: right;\n",
       "    }\n",
       "</style>\n",
       "<table border=\"1\" class=\"dataframe\">\n",
       "  <thead>\n",
       "    <tr style=\"text-align: right;\">\n",
       "      <th></th>\n",
       "      <th>mpg</th>\n",
       "      <th>cylinders</th>\n",
       "      <th>cubicinches</th>\n",
       "      <th>hp</th>\n",
       "      <th>weightlbs</th>\n",
       "      <th>time-to-60</th>\n",
       "      <th>year</th>\n",
       "      <th>brand</th>\n",
       "    </tr>\n",
       "  </thead>\n",
       "  <tbody>\n",
       "    <tr>\n",
       "      <th>0</th>\n",
       "      <td>14.0</td>\n",
       "      <td>8</td>\n",
       "      <td>350</td>\n",
       "      <td>165</td>\n",
       "      <td>4209</td>\n",
       "      <td>12</td>\n",
       "      <td>1972</td>\n",
       "      <td>US.</td>\n",
       "    </tr>\n",
       "    <tr>\n",
       "      <th>1</th>\n",
       "      <td>31.9</td>\n",
       "      <td>4</td>\n",
       "      <td>89</td>\n",
       "      <td>71</td>\n",
       "      <td>1925</td>\n",
       "      <td>14</td>\n",
       "      <td>1980</td>\n",
       "      <td>Europe.</td>\n",
       "    </tr>\n",
       "    <tr>\n",
       "      <th>2</th>\n",
       "      <td>17.0</td>\n",
       "      <td>8</td>\n",
       "      <td>302</td>\n",
       "      <td>140</td>\n",
       "      <td>3449</td>\n",
       "      <td>11</td>\n",
       "      <td>1971</td>\n",
       "      <td>US.</td>\n",
       "    </tr>\n",
       "    <tr>\n",
       "      <th>3</th>\n",
       "      <td>15.0</td>\n",
       "      <td>8</td>\n",
       "      <td>400</td>\n",
       "      <td>150</td>\n",
       "      <td>3761</td>\n",
       "      <td>10</td>\n",
       "      <td>1971</td>\n",
       "      <td>US.</td>\n",
       "    </tr>\n",
       "    <tr>\n",
       "      <th>4</th>\n",
       "      <td>30.5</td>\n",
       "      <td>4</td>\n",
       "      <td>98</td>\n",
       "      <td>63</td>\n",
       "      <td>2051</td>\n",
       "      <td>17</td>\n",
       "      <td>1978</td>\n",
       "      <td>US.</td>\n",
       "    </tr>\n",
       "  </tbody>\n",
       "</table>\n",
       "</div>"
      ],
      "text/plain": [
       "    mpg   cylinders  cubicinches   hp  weightlbs   time-to-60   year     brand\n",
       "0  14.0           8          350  165       4209           12   1972       US.\n",
       "1  31.9           4           89   71       1925           14   1980   Europe.\n",
       "2  17.0           8          302  140       3449           11   1971       US.\n",
       "3  15.0           8          400  150       3761           10   1971       US.\n",
       "4  30.5           4           98   63       2051           17   1978       US."
      ]
     },
     "execution_count": 243,
     "metadata": {},
     "output_type": "execute_result"
    }
   ],
   "source": [
    "x = dataset[:-1]\n",
    "x.head()"
   ]
  },
  {
   "cell_type": "code",
   "execution_count": 244,
   "id": "18fb24e7",
   "metadata": {},
   "outputs": [],
   "source": [
    "             ###Impute / Replace Missing Values with Mean###\n",
    "    \n",
    "#One of the techniques is mean imputation in which the missing values are replaced with the mean value of the entire feature column. In the case of fields\n",
    "#like salary, the data may be skewed as shown in the previous section. \n",
    "#In such cases, it may not be a good idea to use mean imputation for replacing\n",
    "#the missing values. Note that imputing missing data with mean values can only be \n",
    "#done with numerical data.\"\"\""
   ]
  },
  {
   "cell_type": "code",
   "execution_count": 245,
   "id": "b7febee9",
   "metadata": {},
   "outputs": [
    {
     "name": "stderr",
     "output_type": "stream",
     "text": [
      "C:\\Users\\ASUS\\AppData\\Local\\Temp/ipykernel_12564/2029865756.py:1: FutureWarning: Dropping of nuisance columns in DataFrame reductions (with 'numeric_only=None') is deprecated; in a future version this will raise TypeError.  Select only valid columns before calling the reduction.\n",
      "  x.fillna(x.mean())\n"
     ]
    },
    {
     "data": {
      "text/html": [
       "<div>\n",
       "<style scoped>\n",
       "    .dataframe tbody tr th:only-of-type {\n",
       "        vertical-align: middle;\n",
       "    }\n",
       "\n",
       "    .dataframe tbody tr th {\n",
       "        vertical-align: top;\n",
       "    }\n",
       "\n",
       "    .dataframe thead th {\n",
       "        text-align: right;\n",
       "    }\n",
       "</style>\n",
       "<table border=\"1\" class=\"dataframe\">\n",
       "  <thead>\n",
       "    <tr style=\"text-align: right;\">\n",
       "      <th></th>\n",
       "      <th>mpg</th>\n",
       "      <th>cylinders</th>\n",
       "      <th>cubicinches</th>\n",
       "      <th>hp</th>\n",
       "      <th>weightlbs</th>\n",
       "      <th>time-to-60</th>\n",
       "      <th>year</th>\n",
       "      <th>brand</th>\n",
       "    </tr>\n",
       "  </thead>\n",
       "  <tbody>\n",
       "    <tr>\n",
       "      <th>0</th>\n",
       "      <td>14.0</td>\n",
       "      <td>8</td>\n",
       "      <td>350</td>\n",
       "      <td>165</td>\n",
       "      <td>4209</td>\n",
       "      <td>12</td>\n",
       "      <td>1972</td>\n",
       "      <td>US.</td>\n",
       "    </tr>\n",
       "    <tr>\n",
       "      <th>1</th>\n",
       "      <td>31.9</td>\n",
       "      <td>4</td>\n",
       "      <td>89</td>\n",
       "      <td>71</td>\n",
       "      <td>1925</td>\n",
       "      <td>14</td>\n",
       "      <td>1980</td>\n",
       "      <td>Europe.</td>\n",
       "    </tr>\n",
       "    <tr>\n",
       "      <th>2</th>\n",
       "      <td>17.0</td>\n",
       "      <td>8</td>\n",
       "      <td>302</td>\n",
       "      <td>140</td>\n",
       "      <td>3449</td>\n",
       "      <td>11</td>\n",
       "      <td>1971</td>\n",
       "      <td>US.</td>\n",
       "    </tr>\n",
       "    <tr>\n",
       "      <th>3</th>\n",
       "      <td>15.0</td>\n",
       "      <td>8</td>\n",
       "      <td>400</td>\n",
       "      <td>150</td>\n",
       "      <td>3761</td>\n",
       "      <td>10</td>\n",
       "      <td>1971</td>\n",
       "      <td>US.</td>\n",
       "    </tr>\n",
       "    <tr>\n",
       "      <th>4</th>\n",
       "      <td>30.5</td>\n",
       "      <td>4</td>\n",
       "      <td>98</td>\n",
       "      <td>63</td>\n",
       "      <td>2051</td>\n",
       "      <td>17</td>\n",
       "      <td>1978</td>\n",
       "      <td>US.</td>\n",
       "    </tr>\n",
       "    <tr>\n",
       "      <th>...</th>\n",
       "      <td>...</td>\n",
       "      <td>...</td>\n",
       "      <td>...</td>\n",
       "      <td>...</td>\n",
       "      <td>...</td>\n",
       "      <td>...</td>\n",
       "      <td>...</td>\n",
       "      <td>...</td>\n",
       "    </tr>\n",
       "    <tr>\n",
       "      <th>255</th>\n",
       "      <td>24.0</td>\n",
       "      <td>4</td>\n",
       "      <td>113</td>\n",
       "      <td>95</td>\n",
       "      <td>2372</td>\n",
       "      <td>15</td>\n",
       "      <td>1971</td>\n",
       "      <td>Japan.</td>\n",
       "    </tr>\n",
       "    <tr>\n",
       "      <th>256</th>\n",
       "      <td>17.0</td>\n",
       "      <td>8</td>\n",
       "      <td>305</td>\n",
       "      <td>130</td>\n",
       "      <td>3840</td>\n",
       "      <td>15</td>\n",
       "      <td>1980</td>\n",
       "      <td>US.</td>\n",
       "    </tr>\n",
       "    <tr>\n",
       "      <th>257</th>\n",
       "      <td>36.1</td>\n",
       "      <td>4</td>\n",
       "      <td>91</td>\n",
       "      <td>60</td>\n",
       "      <td>1800</td>\n",
       "      <td>16</td>\n",
       "      <td>1979</td>\n",
       "      <td>Japan.</td>\n",
       "    </tr>\n",
       "    <tr>\n",
       "      <th>258</th>\n",
       "      <td>22.0</td>\n",
       "      <td>6</td>\n",
       "      <td>232</td>\n",
       "      <td>112</td>\n",
       "      <td>2835</td>\n",
       "      <td>15</td>\n",
       "      <td>1983</td>\n",
       "      <td>US.</td>\n",
       "    </tr>\n",
       "    <tr>\n",
       "      <th>259</th>\n",
       "      <td>18.0</td>\n",
       "      <td>6</td>\n",
       "      <td>232</td>\n",
       "      <td>100</td>\n",
       "      <td>3288</td>\n",
       "      <td>16</td>\n",
       "      <td>1972</td>\n",
       "      <td>US.</td>\n",
       "    </tr>\n",
       "  </tbody>\n",
       "</table>\n",
       "<p>260 rows × 8 columns</p>\n",
       "</div>"
      ],
      "text/plain": [
       "      mpg   cylinders  cubicinches   hp  weightlbs   time-to-60   year  \\\n",
       "0    14.0           8          350  165       4209           12   1972   \n",
       "1    31.9           4           89   71       1925           14   1980   \n",
       "2    17.0           8          302  140       3449           11   1971   \n",
       "3    15.0           8          400  150       3761           10   1971   \n",
       "4    30.5           4           98   63       2051           17   1978   \n",
       "..    ...         ...          ...  ...        ...          ...    ...   \n",
       "255  24.0           4          113   95       2372           15   1971   \n",
       "256  17.0           8          305  130       3840           15   1980   \n",
       "257  36.1           4           91   60       1800           16   1979   \n",
       "258  22.0           6          232  112       2835           15   1983   \n",
       "259  18.0           6          232  100       3288           16   1972   \n",
       "\n",
       "        brand  \n",
       "0         US.  \n",
       "1     Europe.  \n",
       "2         US.  \n",
       "3         US.  \n",
       "4         US.  \n",
       "..        ...  \n",
       "255    Japan.  \n",
       "256       US.  \n",
       "257    Japan.  \n",
       "258       US.  \n",
       "259       US.  \n",
       "\n",
       "[260 rows x 8 columns]"
      ]
     },
     "execution_count": 245,
     "metadata": {},
     "output_type": "execute_result"
    }
   ],
   "source": [
    "x.fillna(x.mean())"
   ]
  },
  {
   "cell_type": "code",
   "execution_count": 246,
   "id": "1429b283",
   "metadata": {},
   "outputs": [
    {
     "name": "stdout",
     "output_type": "stream",
     "text": [
      "[[14.0 8 '350' ... '4209' 12 1972]\n",
      " [31.9 4 '89' ... '1925' 14 1980]\n",
      " [17.0 8 '302' ... '3449' 11 1971]\n",
      " ...\n",
      " [22.0 6 '232' ... '2835' 15 1983]\n",
      " [18.0 6 '232' ... '3288' 16 1972]\n",
      " [22.0 6 '250' ... '3353' 15 1977]]\n"
     ]
    }
   ],
   "source": [
    "#Manipulating the dataset\n",
    "x= dataset.iloc[: , :-1].values #take all the rows and all but the last column of the dataset\n",
    "print (x)"
   ]
  },
  {
   "cell_type": "code",
   "execution_count": 247,
   "id": "09aa0eb2",
   "metadata": {},
   "outputs": [
    {
     "name": "stdout",
     "output_type": "stream",
     "text": [
      "Index(['mpg', ' cylinders', ' cubicinches', ' hp', ' weightlbs', ' time-to-60',\n",
      "       ' year'],\n",
      "      dtype='object')\n"
     ]
    }
   ],
   "source": [
    "#Choosing the variables\n",
    "print (dataset.columns[:-1]) #We do not need the columns brand with print (dataset.columns)"
   ]
  },
  {
   "cell_type": "code",
   "execution_count": 248,
   "id": "092533ed",
   "metadata": {},
   "outputs": [
    {
     "data": {
      "text/html": [
       "<div>\n",
       "<style scoped>\n",
       "    .dataframe tbody tr th:only-of-type {\n",
       "        vertical-align: middle;\n",
       "    }\n",
       "\n",
       "    .dataframe tbody tr th {\n",
       "        vertical-align: top;\n",
       "    }\n",
       "\n",
       "    .dataframe thead th {\n",
       "        text-align: right;\n",
       "    }\n",
       "</style>\n",
       "<table border=\"1\" class=\"dataframe\">\n",
       "  <thead>\n",
       "    <tr style=\"text-align: right;\">\n",
       "      <th></th>\n",
       "      <th>mpg</th>\n",
       "      <th>cylinders</th>\n",
       "      <th>cubicinches</th>\n",
       "      <th>hp</th>\n",
       "      <th>weightlbs</th>\n",
       "      <th>time-to-60</th>\n",
       "      <th>year</th>\n",
       "    </tr>\n",
       "  </thead>\n",
       "  <tbody>\n",
       "    <tr>\n",
       "      <th>0</th>\n",
       "      <td>14.0</td>\n",
       "      <td>8</td>\n",
       "      <td>350.0</td>\n",
       "      <td>165</td>\n",
       "      <td>4209.0</td>\n",
       "      <td>12</td>\n",
       "      <td>1972</td>\n",
       "    </tr>\n",
       "    <tr>\n",
       "      <th>1</th>\n",
       "      <td>31.9</td>\n",
       "      <td>4</td>\n",
       "      <td>89.0</td>\n",
       "      <td>71</td>\n",
       "      <td>1925.0</td>\n",
       "      <td>14</td>\n",
       "      <td>1980</td>\n",
       "    </tr>\n",
       "    <tr>\n",
       "      <th>2</th>\n",
       "      <td>17.0</td>\n",
       "      <td>8</td>\n",
       "      <td>302.0</td>\n",
       "      <td>140</td>\n",
       "      <td>3449.0</td>\n",
       "      <td>11</td>\n",
       "      <td>1971</td>\n",
       "    </tr>\n",
       "    <tr>\n",
       "      <th>3</th>\n",
       "      <td>15.0</td>\n",
       "      <td>8</td>\n",
       "      <td>400.0</td>\n",
       "      <td>150</td>\n",
       "      <td>3761.0</td>\n",
       "      <td>10</td>\n",
       "      <td>1971</td>\n",
       "    </tr>\n",
       "    <tr>\n",
       "      <th>4</th>\n",
       "      <td>30.5</td>\n",
       "      <td>4</td>\n",
       "      <td>98.0</td>\n",
       "      <td>63</td>\n",
       "      <td>2051.0</td>\n",
       "      <td>17</td>\n",
       "      <td>1978</td>\n",
       "    </tr>\n",
       "  </tbody>\n",
       "</table>\n",
       "</div>"
      ],
      "text/plain": [
       "    mpg   cylinders   cubicinches   hp   weightlbs   time-to-60   year\n",
       "0  14.0           8         350.0  165      4209.0           12   1972\n",
       "1  31.9           4          89.0   71      1925.0           14   1980\n",
       "2  17.0           8         302.0  140      3449.0           11   1971\n",
       "3  15.0           8         400.0  150      3761.0           10   1971\n",
       "4  30.5           4          98.0   63      2051.0           17   1978"
      ]
     },
     "execution_count": 248,
     "metadata": {},
     "output_type": "execute_result"
    }
   ],
   "source": [
    "#The dataset without the column brand\n",
    "x = dataset[dataset.columns[:-1]]\n",
    "x = x._convert(numeric=True)\n",
    "x.head()"
   ]
  },
  {
   "cell_type": "code",
   "execution_count": 249,
   "id": "bd28d560",
   "metadata": {},
   "outputs": [
    {
     "name": "stdout",
     "output_type": "stream",
     "text": [
      "0\n",
      "0\n",
      "0\n",
      "0\n",
      "0\n",
      "0\n",
      "0\n"
     ]
    }
   ],
   "source": [
    "#Eliminating null values 2\n",
    "for i in x.columns:\n",
    "    x[i] = x[i].fillna(int(x[i].mean()))\n",
    "for i in x.columns:\n",
    "    print(x[i].isnull().sum())"
   ]
  },
  {
   "cell_type": "code",
   "execution_count": 250,
   "id": "f002766b",
   "metadata": {},
   "outputs": [
    {
     "name": "stderr",
     "output_type": "stream",
     "text": [
      "C:\\Users\\ASUS\\anaconda\\lib\\site-packages\\sklearn\\cluster\\_kmeans.py:881: UserWarning: KMeans is known to have a memory leak on Windows with MKL, when there are less chunks than available threads. You can avoid it by setting the environment variable OMP_NUM_THREADS=2.\n",
      "  warnings.warn(\n"
     ]
    },
    {
     "data": {
      "image/png": "[encoded data removed]",
      "text/plain": [
       "<Figure size 432x288 with 1 Axes>"
      ]
     },
     "metadata": {
      "needs_background": "light"
     },
     "output_type": "display_data"
    }
   ],
   "source": [
    "#Using the elbow method to find the final optimal number of clusters\n",
    "from sklearn.cluster import KMeans\n",
    "\n",
    "wcss = [] #WSS the sum of the squared distance between each member of the cluster and its centroid\n",
    "for i in range(1,16):\n",
    "    kmeansModel=KMeans(n_clusters=i,init='k-means++', max_iter=300, n_init=10, random_state=0)\n",
    "    kmeansModel.fit(x)\n",
    "    wcss.append(kmeansModel.inertia_)\n",
    "plt.plot(range(1,16), wcss)\n",
    "plt.title ('The elbow method')\n",
    "plt.xlabel('Number of clusters')\n",
    "plt.ylabel('WCSS')\n",
    "plt.show()"
   ]
  },
  {
   "cell_type": "code",
   "execution_count": 251,
   "id": "2ded494f",
   "metadata": {},
   "outputs": [],
   "source": [
    "#Applying the kmeans to the cars dataset\n",
    "kmeansModel=KMeans(n_clusters=i,init='k-means++', max_iter=300, n_init=10, random_state=0)\n",
    "y_kmeansModel = kmeansModel.fit_predict(x)\n",
    "x=x.to_numpy()\n"
   ]
  },
  {
   "cell_type": "code",
   "execution_count": 252,
   "id": "13c073bd",
   "metadata": {},
   "outputs": [
    {
     "data": {
      "text/plain": [
       "(261,)"
      ]
     },
     "execution_count": 252,
     "metadata": {},
     "output_type": "execute_result"
    }
   ],
   "source": [
    "y_kmeansModel.shape"
   ]
  },
  {
   "cell_type": "code",
   "execution_count": 253,
   "id": "6c90b4b7",
   "metadata": {},
   "outputs": [
    {
     "name": "stdout",
     "output_type": "stream",
     "text": [
      "(261, 7)\n"
     ]
    }
   ],
   "source": [
    "#Resizing the y matrix to fit with the dimensions of the matrix x\n",
    "print(x.shape)"
   ]
  },
  {
   "cell_type": "code",
   "execution_count": 254,
   "id": "a524eb7e",
   "metadata": {},
   "outputs": [],
   "source": [
    " y_kmeansModel.resize((261,), refcheck=False)"
   ]
  },
  {
   "cell_type": "code",
   "execution_count": 255,
   "id": "1a24c9b6",
   "metadata": {},
   "outputs": [
    {
     "name": "stdout",
     "output_type": "stream",
     "text": [
      "(261,)\n"
     ]
    }
   ],
   "source": [
    "print(y_kmeansModel.shape)"
   ]
  },
  {
   "cell_type": "code",
   "execution_count": 256,
   "id": "a7bc989c",
   "metadata": {},
   "outputs": [
    {
     "data": {
      "text/plain": [
       "array([[1.400e+01, 8.000e+00, 3.500e+02, ..., 4.209e+03, 1.200e+01,\n",
       "        1.972e+03],\n",
       "       [3.190e+01, 4.000e+00, 8.900e+01, ..., 1.925e+03, 1.400e+01,\n",
       "        1.980e+03],\n",
       "       [1.700e+01, 8.000e+00, 3.020e+02, ..., 3.449e+03, 1.100e+01,\n",
       "        1.971e+03],\n",
       "       ...,\n",
       "       [2.200e+01, 6.000e+00, 2.320e+02, ..., 2.835e+03, 1.500e+01,\n",
       "        1.983e+03],\n",
       "       [1.800e+01, 6.000e+00, 2.320e+02, ..., 3.288e+03, 1.600e+01,\n",
       "        1.972e+03],\n",
       "       [2.200e+01, 6.000e+00, 2.500e+02, ..., 3.353e+03, 1.500e+01,\n",
       "        1.977e+03]])"
      ]
     },
     "execution_count": 256,
     "metadata": {},
     "output_type": "execute_result"
    }
   ],
   "source": [
    "x"
   ]
  },
  {
   "cell_type": "code",
   "execution_count": 257,
   "id": "2a68d048",
   "metadata": {},
   "outputs": [
    {
     "data": {
      "text/plain": [
       "array([13, 12,  7,  3, 12,  9,  1,  1,  7, 12, 11,  2, 13,  3,  0,  1, 12,\n",
       "        7, 11, 11, 12,  4,  0, 13, 12,  6,  6, 10,  3, 11,  2,  8,  4,  0,\n",
       "       12,  7,  6, 14,  9,  8,  9, 10,  3,  7,  8,  4,  3, 11, 12,  0,  1,\n",
       "        8,  3,  2,  1,  1,  0, 12, 12,  9,  0, 11,  0,  2, 13,  7, 12, 12,\n",
       "        6,  9,  8,  4, 11,  4,  2,  0,  8,  4, 11, 11,  1,  5,  7, 14,  2,\n",
       "        6, 14,  7,  2, 14, 12, 11, 13,  7, 11,  9, 10,  8,  9,  9,  5,  5,\n",
       "        2,  2, 11,  4, 11, 12, 14,  7, 11,  0,  1,  6,  2,  9, 14,  0, 12,\n",
       "        1,  2, 12, 10, 14,  6,  4, 10,  2,  4,  6, 11, 14,  5,  3,  1, 13,\n",
       "       12,  8,  0,  0, 14,  2, 14,  6,  3,  0,  7, 14,  3,  8,  4,  4,  1,\n",
       "        8,  4,  8,  2,  2,  4,  7,  0, 13,  0,  0, 11,  7,  7,  4, 14,  2,\n",
       "       11, 14,  0,  4,  2,  2,  1,  3,  3, 12,  0,  2, 13,  7, 11,  0,  7,\n",
       "        9, 13, 10,  4, 14,  1, 13, 13,  2,  4, 12, 12, 12, 11,  4,  7,  3,\n",
       "       11,  9,  2,  0, 13,  0, 14,  7,  6, 12,  8,  4, 12, 13,  4,  1,  8,\n",
       "       14,  1,  9, 13, 12, 10,  6,  4, 14,  3,  4,  4, 10,  8,  2, 13,  0,\n",
       "        6,  2, 13,  8, 13, 14,  1,  7,  3,  2,  2,  4,  2, 14,  0,  9, 14,\n",
       "       11,  9,  6, 14,  8,  7])"
      ]
     },
     "execution_count": 257,
     "metadata": {},
     "output_type": "execute_result"
    }
   ],
   "source": [
    "y_kmeansModel"
   ]
  },
  {
   "cell_type": "code",
   "execution_count": 258,
   "id": "f7822734",
   "metadata": {},
   "outputs": [
    {
     "name": "stdout",
     "output_type": "stream",
     "text": [
      "1\n"
     ]
    }
   ],
   "source": [
    "print(y_kmeansModel.ndim)"
   ]
  },
  {
   "cell_type": "code",
   "execution_count": 259,
   "id": "04be3352",
   "metadata": {
    "scrolled": true
   },
   "outputs": [
    {
     "data": {
      "image/png": "[encoded data removed]",
      "text/plain": [
       "<Figure size 432x288 with 1 Axes>"
      ]
     },
     "metadata": {
      "needs_background": "light"
     },
     "output_type": "display_data"
    }
   ],
   "source": [
    "plt.scatter(x[y_kmeansModel == 0,0], x[y_kmeansModel == 0,1] , s=100 , c=\"red\", label=\"Us.\")\n",
    "plt.scatter(x[y_kmeansModel == 1,0], x[y_kmeansModel == 1,1] , s=100 , c=\"blue\", label=\"Japan.\")\n",
    "plt.scatter(x[y_kmeansModel == 2,0], x[y_kmeansModel == 2,1] , s=100 , c=\"green\", label=\"Europe.\")\n",
    "plt.scatter(kmeansModel.cluster_centers_[:,0],kmeansModel.cluster_centers_[:,1], s=300, c=\"yellow\",label=\"centroids\")\n",
    "plt.title(\"Clusters of car make\")\n",
    "plt.legend()\n",
    "plt.show()"
   ]
  },
  {
   "cell_type": "code",
   "execution_count": null,
   "id": "8fb8626f",
   "metadata": {},
   "outputs": [],
   "source": []
  }
 ],
 "metadata": {
  "kernelspec": {
   "display_name": "Python 3 (ipykernel)",
   "language": "python",
   "name": "python3"
  },
  "language_info": {
   "codemirror_mode": {
    "name": "ipython",
    "version": 3
   },
   "file_extension": ".py",
   "mimetype": "text/x-python",
   "name": "python",
   "nbconvert_exporter": "python",
   "pygments_lexer": "ipython3",
   "version": "3.9.7"
  }
 },
 "nbformat": 4,
 "nbformat_minor": 5
}
